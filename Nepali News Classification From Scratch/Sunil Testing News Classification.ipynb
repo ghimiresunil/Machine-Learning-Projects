{
 "cells": [
  {
   "cell_type": "code",
   "execution_count": 1,
   "id": "e2ac981f",
   "metadata": {},
   "outputs": [
    {
     "name": "stderr",
     "output_type": "stream",
     "text": [
      "2022-03-11 17:28:15.217563: W tensorflow/stream_executor/platform/default/dso_loader.cc:64] Could not load dynamic library 'libcudart.so.11.0'; dlerror: libcudart.so.11.0: cannot open shared object file: No such file or directory\n",
      "2022-03-11 17:28:15.217594: I tensorflow/stream_executor/cuda/cudart_stub.cc:29] Ignore above cudart dlerror if you do not have a GPU set up on your machine.\n"
     ]
    }
   ],
   "source": [
    "import string \n",
    "import numpy as np \n",
    "from gensim.models import Word2Vec\n",
    "from text_preprocess import NepaliPreprocess\n",
    "from tensorflow.keras.models import load_model\n",
    "from tensorflow.keras.preprocessing.sequence import pad_sequences"
   ]
  },
  {
   "cell_type": "code",
   "execution_count": 2,
   "id": "df59d857",
   "metadata": {},
   "outputs": [
    {
     "name": "stderr",
     "output_type": "stream",
     "text": [
      "2022-03-11 17:28:18.066852: W tensorflow/stream_executor/platform/default/dso_loader.cc:64] Could not load dynamic library 'libcuda.so.1'; dlerror: libcuda.so.1: cannot open shared object file: No such file or directory\n",
      "2022-03-11 17:28:18.066908: W tensorflow/stream_executor/cuda/cuda_driver.cc:269] failed call to cuInit: UNKNOWN ERROR (303)\n",
      "2022-03-11 17:28:18.066942: I tensorflow/stream_executor/cuda/cuda_diagnostics.cc:156] kernel driver does not appear to be running on this host (linus-Inspiron-3543): /proc/driver/nvidia/version does not exist\n",
      "2022-03-11 17:28:18.067351: I tensorflow/core/platform/cpu_feature_guard.cc:151] This TensorFlow binary is optimized with oneAPI Deep Neural Network Library (oneDNN) to use the following CPU instructions in performance-critical operations:  AVX2 FMA\n",
      "To enable them in other operations, rebuild TensorFlow with the appropriate compiler flags.\n",
      "2022-03-11 17:28:18.092482: W tensorflow/core/framework/cpu_allocator_impl.cc:82] Allocation of 231968800 exceeds 10% of free system memory.\n",
      "2022-03-11 17:28:18.347208: W tensorflow/core/framework/cpu_allocator_impl.cc:82] Allocation of 231968800 exceeds 10% of free system memory.\n",
      "2022-03-11 17:28:18.419095: W tensorflow/core/framework/cpu_allocator_impl.cc:82] Allocation of 231968800 exceeds 10% of free system memory.\n",
      "2022-03-11 17:28:20.881197: W tensorflow/core/framework/cpu_allocator_impl.cc:82] Allocation of 231968800 exceeds 10% of free system memory.\n"
     ]
    }
   ],
   "source": [
    "model = load_model(\"LSTM.h5\")"
   ]
  },
  {
   "cell_type": "code",
   "execution_count": 3,
   "id": "8cff8ed7",
   "metadata": {},
   "outputs": [],
   "source": [
    "model_W2V = Word2Vec.load(\"./pretrained_word2vec_model/nepaliW2V_5Million.model\")\n",
    "nlp = NepaliPreprocess()"
   ]
  },
  {
   "cell_type": "code",
   "execution_count": 4,
   "id": "89be734e",
   "metadata": {},
   "outputs": [],
   "source": [
    "def word2token(word):\n",
    "    try:\n",
    "        return model_W2V.wv.key_to_index[word]\n",
    "    except KeyError:\n",
    "        return 0  \n",
    "    \n",
    "# COVERT TOKEN INTO WORD\n",
    "def token2word(token):\n",
    "    return model_W2V.wv.index_to_key[token]"
   ]
  },
  {
   "cell_type": "code",
   "execution_count": 5,
   "id": "beb3a9bf",
   "metadata": {},
   "outputs": [],
   "source": [
    "translator = str.maketrans('', '', string.punctuation + '–')\n",
    "def prepare_input(text):\n",
    "\n",
    "    preprocessed_Text = nlp.Reg_and_Stemming(text)\n",
    "\n",
    "    translator = str.maketrans('', '', string.punctuation + '–')\n",
    "    news = preprocessed_Text.translate(translator)\n",
    "    words = np.array([word2token(w) for w in news.split(' ')[:20] if w != ''])\n",
    "    input_tokens = []\n",
    "    for idx in words:\n",
    "        input_tokens.append(idx) \n",
    "\n",
    "    set_x = pad_sequences([input_tokens], maxlen=20, padding='pre', value=0)\n",
    "    return set_x"
   ]
  },
  {
   "cell_type": "code",
   "execution_count": 6,
   "id": "66153260",
   "metadata": {},
   "outputs": [],
   "source": [
    "def get_CATEGORY(input_Seq):\n",
    "\n",
    "    opt = model.predict(input_Seq)\n",
    "    idx = np.argmax(opt)\n",
    "    category = {'खेलकुद': 0, 'मनोरन्जन': 1, 'व्यापार': 2}\n",
    "    News_class = list(category.keys())[list(category.values()).index(idx)]\n",
    "    return News_class"
   ]
  },
  {
   "cell_type": "code",
   "execution_count": 13,
   "id": "c2e0abfe",
   "metadata": {},
   "outputs": [
    {
     "name": "stdout",
     "output_type": "stream",
     "text": [
      "समाचारको प्रकार: खेलकुद\n"
     ]
    }
   ],
   "source": [
    "समाचार_शीर्षक = \"नेपालले जितका लागि २३३ रनको लक्ष्य पायो\"\n",
    "padded_input = prepare_input(समाचार_शीर्षक)\n",
    "resut = get_CATEGORY(padded_input)\n",
    "print('समाचारको प्रकार:', resut)"
   ]
  },
  {
   "cell_type": "code",
   "execution_count": 14,
   "id": "2ae3ff11",
   "metadata": {},
   "outputs": [
    {
     "name": "stdout",
     "output_type": "stream",
     "text": [
      "समाचारको प्रकार: मनोरन्जन\n"
     ]
    }
   ],
   "source": [
    "समाचार_शीर्षक = \"फिल्मको बाँकी छायांकनका लागि ढाका उड्यो 'ए मेरो हजुर ४' टिम\"\n",
    "padded_input = prepare_input(समाचार_शीर्षक)\n",
    "resut = get_CATEGORY(padded_input)\n",
    "print('समाचारको प्रकार:', resut)"
   ]
  },
  {
   "cell_type": "code",
   "execution_count": 15,
   "id": "26323517",
   "metadata": {},
   "outputs": [
    {
     "name": "stdout",
     "output_type": "stream",
     "text": [
      "समाचारको प्रकार: व्यापार\n"
     ]
    }
   ],
   "source": [
    "समाचार_शीर्षक = \"आयल निगमको कार्यकारी निर्देशकमा थानी नियुक्त\"\n",
    "padded_input = prepare_input(समाचार_शीर्षक)\n",
    "resut = get_CATEGORY(padded_input)\n",
    "print('समाचारको प्रकार:', resut)"
   ]
  },
  {
   "cell_type": "code",
   "execution_count": null,
   "id": "392c6934",
   "metadata": {},
   "outputs": [],
   "source": []
  }
 ],
 "metadata": {
  "kernelspec": {
   "display_name": "Python 3 (ipykernel)",
   "language": "python",
   "name": "python3"
  },
  "language_info": {
   "codemirror_mode": {
    "name": "ipython",
    "version": 3
   },
   "file_extension": ".py",
   "mimetype": "text/x-python",
   "name": "python",
   "nbconvert_exporter": "python",
   "pygments_lexer": "ipython3",
   "version": "3.8.10"
  }
 },
 "nbformat": 4,
 "nbformat_minor": 5
}
