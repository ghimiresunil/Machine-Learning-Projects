{
 "cells": [
  {
   "cell_type": "code",
   "execution_count": 10,
   "id": "bf31a733",
   "metadata": {},
   "outputs": [],
   "source": [
    "import os\n",
    "from gensim.models.word2vec import Word2Vec"
   ]
  },
  {
   "cell_type": "code",
   "execution_count": 11,
   "id": "6fe56ff8",
   "metadata": {},
   "outputs": [
    {
     "name": "stdout",
     "output_type": "stream",
     "text": [
      "load_embedding.ipynb  \u001b[0m\u001b[01;34mpretrained_word2vec_model\u001b[0m/\r\n"
     ]
    }
   ],
   "source": [
    "ls"
   ]
  },
  {
   "cell_type": "code",
   "execution_count": 14,
   "id": "194b6e7a",
   "metadata": {},
   "outputs": [],
   "source": [
    "def load_vector():\n",
    "    root_path = os.path.dirname(os.path.abspath('__file__'))\n",
    "    base_folder = os.path.join(root_path, \"pretrained_word2vec_model\")\n",
    "    word_vector = Word2Vec.load(base_folder + '/nepaliW2V_5Million.model')\n",
    "    return word_vector"
   ]
  },
  {
   "cell_type": "code",
   "execution_count": 15,
   "id": "40bb05bc",
   "metadata": {},
   "outputs": [],
   "source": [
    "word_vec = load_vector()"
   ]
  },
  {
   "cell_type": "code",
   "execution_count": 17,
   "id": "0de32d1a",
   "metadata": {},
   "outputs": [
    {
     "data": {
      "text/plain": [
       "[('बुबा', 0.8856865167617798),\n",
       " ('दाजु', 0.8162410855293274),\n",
       " ('नाति', 0.8150131702423096),\n",
       " ('भाइ', 0.7901029586791992),\n",
       " ('बाबु', 0.7896049618721008),\n",
       " ('हजुरबुवा', 0.7865492701530457),\n",
       " ('छोरा', 0.7769683599472046),\n",
       " ('हजुरबुबा', 0.7718214392662048),\n",
       " ('दाइ', 0.7669489979743958),\n",
       " ('हजुरआ', 0.7568773627281189)]"
      ]
     },
     "execution_count": 17,
     "metadata": {},
     "output_type": "execute_result"
    }
   ],
   "source": [
    "word_vec.wv.most_similar('बुवा')"
   ]
  },
  {
   "cell_type": "code",
   "execution_count": null,
   "id": "95f934a2",
   "metadata": {},
   "outputs": [],
   "source": []
  }
 ],
 "metadata": {
  "kernelspec": {
   "display_name": "Python 3 (ipykernel)",
   "language": "python",
   "name": "python3"
  },
  "language_info": {
   "codemirror_mode": {
    "name": "ipython",
    "version": 3
   },
   "file_extension": ".py",
   "mimetype": "text/x-python",
   "name": "python",
   "nbconvert_exporter": "python",
   "pygments_lexer": "ipython3",
   "version": "3.8.10"
  }
 },
 "nbformat": 4,
 "nbformat_minor": 5
}
