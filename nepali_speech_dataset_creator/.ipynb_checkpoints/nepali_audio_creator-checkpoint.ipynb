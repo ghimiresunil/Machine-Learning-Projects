{
 "cells": [
  {
   "cell_type": "code",
   "execution_count": 1,
   "id": "ec752167",
   "metadata": {},
   "outputs": [
    {
     "name": "stdout",
     "output_type": "stream",
     "text": [
      "Defaulting to user installation because normal site-packages is not writeable\n",
      "Requirement already satisfied: gtts in /home/linus/.local/lib/python3.8/site-packages (2.2.4)\n",
      "Requirement already satisfied: requests in /usr/lib/python3/dist-packages (from gtts) (2.22.0)\n",
      "Requirement already satisfied: click in /home/linus/.local/lib/python3.8/site-packages (from gtts) (8.0.3)\n",
      "Requirement already satisfied: six in /home/linus/.local/lib/python3.8/site-packages (from gtts) (1.16.0)\n",
      "\u001b[33mWARNING: You are using pip version 22.0.3; however, version 22.0.4 is available.\n",
      "You should consider upgrading via the '/usr/bin/python3 -m pip install --upgrade pip' command.\u001b[0m\u001b[33m\n",
      "\u001b[0m"
     ]
    }
   ],
   "source": [
    "! pip install gtts"
   ]
  },
  {
   "cell_type": "code",
   "execution_count": 2,
   "id": "5a699592",
   "metadata": {},
   "outputs": [],
   "source": [
    "import glob\n",
    "from gtts import gTTS"
   ]
  },
  {
   "cell_type": "markdown",
   "id": "5f72c208",
   "metadata": {},
   "source": [
    "## Change the number list every time you run the program to get new pronounciation."
   ]
  },
  {
   "cell_type": "code",
   "execution_count": 3,
   "id": "84fa8972",
   "metadata": {},
   "outputs": [],
   "source": [
    "number_list = ['śūnya','ek','duī','tin','chār','pāṅch','chha','sāṭ','āth','nau', 'dasa', 'eghāra', 'bāhra'\n",
    "              'tehra', 'caudha', 'pandhra', 'sohra', 'satra', 'aṭhāra', 'unnāisa', 'bisa']"
   ]
  },
  {
   "cell_type": "code",
   "execution_count": 4,
   "id": "b30bdb7b",
   "metadata": {},
   "outputs": [],
   "source": [
    "def convert_to_sound(text_to_save):\n",
    "    tts = gTTS(text=text_to_save, lang='hi')\n",
    "    tts.save('audio/'+text_to_save+'.mp3')"
   ]
  },
  {
   "cell_type": "code",
   "execution_count": 5,
   "id": "f2770112",
   "metadata": {},
   "outputs": [],
   "source": [
    "for a in number_list:\n",
    "    convert_to_sound(a)"
   ]
  },
  {
   "cell_type": "markdown",
   "id": "88feaf92",
   "metadata": {},
   "source": [
    "## List all Saved Audio:"
   ]
  },
  {
   "cell_type": "code",
   "execution_count": 6,
   "id": "cd1aa3e4",
   "metadata": {},
   "outputs": [
    {
     "name": "stdout",
     "output_type": "stream",
     "text": [
      "['./audio/satra.mp3', './audio/sohra.mp3', './audio/bisa.mp3', './audio/pāṅch.mp3', './audio/eghāra.mp3', './audio/śūnya.mp3', './audio/bāhratehra.mp3', './audio/sāṭ.mp3', './audio/tin.mp3', './audio/āth.mp3', './audio/dasa.mp3', './audio/duī.mp3', './audio/chār.mp3', './audio/unnāisa.mp3', './audio/chha.mp3', './audio/nau.mp3', './audio/aṭhāra.mp3', './audio/ek.mp3', './audio/caudha.mp3', './audio/pandhra.mp3']\n"
     ]
    }
   ],
   "source": [
    "print(glob.glob(\"./audio/*.mp3\"))"
   ]
  },
  {
   "cell_type": "code",
   "execution_count": null,
   "id": "a732edbd",
   "metadata": {},
   "outputs": [],
   "source": []
  }
 ],
 "metadata": {
  "kernelspec": {
   "display_name": "Python 3 (ipykernel)",
   "language": "python",
   "name": "python3"
  },
  "language_info": {
   "codemirror_mode": {
    "name": "ipython",
    "version": 3
   },
   "file_extension": ".py",
   "mimetype": "text/x-python",
   "name": "python",
   "nbconvert_exporter": "python",
   "pygments_lexer": "ipython3",
   "version": "3.8.10"
  }
 },
 "nbformat": 4,
 "nbformat_minor": 5
}
